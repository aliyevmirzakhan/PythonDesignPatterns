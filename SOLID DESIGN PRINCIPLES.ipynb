{
 "cells": [
  {
   "cell_type": "markdown",
   "id": "configured-latvia",
   "metadata": {},
   "source": [
    "## **PRINCIPLE 1:** Single Responsibility Principle (**SRP**) or Seperation of Concerns (**SOC**)"
   ]
  },
  {
   "cell_type": "code",
   "execution_count": 1,
   "id": "modular-square",
   "metadata": {},
   "outputs": [],
   "source": [
    "class Journal:\n",
    "    def __init__ (self):\n",
    "        self.entries = []\n",
    "        self.count = 0\n",
    "        \n",
    "    def add_entry (self, text):\n",
    "        self.count += 1\n",
    "        self.entries.append(f\"{self.count}: {text}\")\n",
    "    \n",
    "    def remove_entry (self, pos):\n",
    "        del self.entries[pos]\n",
    "    def __str__(self):\n",
    "        return '\\n'.join(self.entries) "
   ]
  },
  {
   "cell_type": "code",
   "execution_count": 2,
   "id": "about-simulation",
   "metadata": {},
   "outputs": [
    {
     "name": "stdout",
     "output_type": "stream",
     "text": [
      "Journal Entries:\n",
      "1: I ate tomato\n",
      "2: I slept in time\n"
     ]
    }
   ],
   "source": [
    "j = Journal()\n",
    "j.add_entry(\"I ate tomato\")\n",
    "j.add_entry(\"I slept in time\")\n",
    "print(f\"Journal Entries:\\n{str(j)}\")"
   ]
  },
  {
   "cell_type": "markdown",
   "id": "several-restoration",
   "metadata": {},
   "source": [
    "A class should have single responsibility for change, and this should be its main characteristics"
   ]
  },
  {
   "cell_type": "markdown",
   "id": "sustained-assurance",
   "metadata": {},
   "source": [
    "## **PRINCIPLE 2:** Open Closed Principle\n",
    "\n",
    "`OCP - Open for extension, but closed for modification`"
   ]
  },
  {
   "cell_type": "code",
   "execution_count": 22,
   "id": "silent-compatibility",
   "metadata": {},
   "outputs": [],
   "source": [
    "from enum import Enum\n",
    "\n",
    "class Color(Enum):\n",
    "    RED = 1\n",
    "    GREEN = 2\n",
    "    BLUE = 3\n",
    "    \n",
    "class Size(Enum):\n",
    "    SMALL = 1\n",
    "    MEDIUM = 2\n",
    "    LARGE = 3\n",
    "    \n",
    "class Product:\n",
    "    def __init__(self, name, color, size):\n",
    "        self.name = name\n",
    "        self.color = color\n",
    "        self.size = size\n",
    "\n",
    "class ProductFilter: \n",
    "    \n",
    "    def filter_by_color(self, products, color):\n",
    "        for p in products:\n",
    "            if p.color == color: yield p\n",
    "    \"\"\"\n",
    "        Suppose later in time we are requested to add the functionality of filtering by size, and someone wrote the\n",
    "        function below, this is violation of OPC principle, because a class should be closed to modification after \n",
    "        production\n",
    "    \"\"\"\n",
    "    def filter_by_size(self, products, size):\n",
    "        for p in products:\n",
    "            if p.size == size: yield p\n",
    "                \n",
    "# Specification\n",
    "\n",
    "class Specification:\n",
    "    \n",
    "    def is_satisfied(self, item):\n",
    "        pass\n",
    "    \n",
    "    def __and__(self, other):\n",
    "        return AndSpecification(self, other)\n",
    "    \n",
    "class Filter:\n",
    "    \n",
    "    def filter(self, items, spec):\n",
    "        pass\n",
    "    \n",
    "# The functions in these classes left unimplemented because we want to extend them by inheriting\n",
    "\n",
    "# For example let's say we want to have a filter on Color\n",
    "# The 1st thing we do is to create an extension class for color specification\n",
    "class ColorSpecification(Specification):\n",
    "    def __init__(self, color: Color):\n",
    "        self.color = color\n",
    "        \n",
    "    def is_satisfied(self, item):\n",
    "        return item.color == self.color\n",
    "    \n",
    "#Let's say we also want to have a spec class for Size\n",
    "class SizeSpecification(Specification):\n",
    "    def __init__(self, size: Size):\n",
    "        self.size = size\n",
    "        \n",
    "    def is_satisfied(self, item):\n",
    "        return item.size == self.size\n",
    "\n",
    "class AndSpecification(Specification):\n",
    "    def __init__(self, *args):\n",
    "        self.args = args\n",
    "        \n",
    "    def is_satisfied(self, item):\n",
    "        return all(map(\n",
    "            lambda spec: spec.is_satisfied(item), self.args\n",
    "        ))\n",
    "\n",
    "\n",
    "class BetterFilter(Filter):\n",
    "    def filter(self, items, spec: Specification):\n",
    "        for item in items:\n",
    "            if spec.is_satisfied(item): yield item"
   ]
  },
  {
   "cell_type": "code",
   "execution_count": 24,
   "id": "auburn-pendant",
   "metadata": {},
   "outputs": [
    {
     "name": "stdout",
     "output_type": "stream",
     "text": [
      "house - is large and green\n"
     ]
    }
   ],
   "source": [
    "apple = Product(\"apple\", Color.RED, Size.SMALL)\n",
    "car   = Product(\"car\", Color.BLUE, Size.MEDIUM)\n",
    "house = Product(\"house\", Color.GREEN, Size.LARGE)\n",
    "\n",
    "green_color_spec = ColorSpecification(Color.GREEN)\n",
    "large_size_spec  = SizeSpecification(Size.LARGE)\n",
    "green_and_large_spec = green_color_spec & large_size_spec\n",
    "\n",
    "bf = BetterFilter()\n",
    "\n",
    "products = [apple, car, house]\n",
    "for fp in bf.filter(products, green_and_large_spec):\n",
    "    print(f\"{fp.name} - is large and green\")"
   ]
  },
  {
   "cell_type": "markdown",
   "id": "characteristic-passport",
   "metadata": {},
   "source": [
    "## Principle 3: Liskov Substitution Principle (LSP)\n",
    "\n",
    "`LSP - If there is an interface based on a base class, you should stick a drived class in there and everything should work`"
   ]
  },
  {
   "cell_type": "code",
   "execution_count": 3,
   "id": "large-mainstream",
   "metadata": {},
   "outputs": [],
   "source": [
    "class Rectangle:\n",
    "    def __init__(self, width, height):\n",
    "        self._width = width\n",
    "        self._height = height\n",
    "    \n",
    "    def __str__(self):\n",
    "        return f\"Width: {self.width}, height: {self.height}\"\n",
    "    \n",
    "    @property\n",
    "    def area(self):\n",
    "        return self._width * self._height\n",
    "    \n",
    "    @property\n",
    "    def width(self):\n",
    "        return self._width\n",
    "    \n",
    "    @property\n",
    "    def height(self):\n",
    "        return self._height\n",
    "    \n",
    "    @width.setter\n",
    "    def width(self, value):\n",
    "        self._width = width\n",
    "    \n",
    "    @height.setter\n",
    "    def height(self, value):\n",
    "        self._height = value"
   ]
  },
  {
   "cell_type": "code",
   "execution_count": 7,
   "id": "arabic-culture",
   "metadata": {},
   "outputs": [],
   "source": [
    "class Square(Rectangle):\n",
    "    def __init__(self, size):\n",
    "        Rectangle.__init__(self, size, size)\n",
    "    \n",
    "    @Rectangle.width.setter\n",
    "    def width(self, value):\n",
    "        self._width = self._height = value\n",
    "        \n",
    "    @Rectangle.height.setter\n",
    "    def height(self, value):\n",
    "        self._height = self._width = value"
   ]
  },
  {
   "cell_type": "code",
   "execution_count": 4,
   "id": "labeled-hydrogen",
   "metadata": {},
   "outputs": [],
   "source": [
    "def use_it(rc: Rectangle):\n",
    "    w = rc.width\n",
    "    rc.height = 10\n",
    "    \n",
    "    expected = int(w*10)\n",
    "    \n",
    "    print(f\"Expected an area of {expected}, but got {rc.area}\")"
   ]
  },
  {
   "cell_type": "code",
   "execution_count": 5,
   "id": "primary-gentleman",
   "metadata": {},
   "outputs": [
    {
     "name": "stdout",
     "output_type": "stream",
     "text": [
      "Expected an area of 20, but got 20\n"
     ]
    }
   ],
   "source": [
    "rc = Rectangle(2,3)\n",
    "use_it(rc)"
   ]
  },
  {
   "cell_type": "code",
   "execution_count": 8,
   "id": "round-nevada",
   "metadata": {},
   "outputs": [
    {
     "name": "stdout",
     "output_type": "stream",
     "text": [
      "Expected an area of 50, but got 100\n"
     ]
    }
   ],
   "source": [
    "sq = Square(5)\n",
    "use_it(sq)"
   ]
  },
  {
   "cell_type": "markdown",
   "id": "maritime-payment",
   "metadata": {},
   "source": [
    "This is violation of Liskov's substitution principle, because if we have an interface working with base class, then we should be able to stick in any derived inheritors, and the interface should work just fine. **But in this case in Square class (which inherits the Rectangle class) the function broke**."
   ]
  },
  {
   "cell_type": "markdown",
   "id": "hourly-fisher",
   "metadata": {},
   "source": [
    "  ## Principle 4: Interface Segregation Principle (ISP)"
   ]
  },
  {
   "cell_type": "markdown",
   "id": "former-broad",
   "metadata": {},
   "source": [
    "`ISP` implies if a class is designed to be an interface, it is not ideal to implement many methods in single interface that can be seperated. Instead the related methods could also be implemented in a seperate interface, and the current interface could inherit from it"
   ]
  },
  {
   "cell_type": "markdown",
   "id": "yellow-crawford",
   "metadata": {},
   "source": [
    "## Principle 5: Dependency Inversion Principle (DIP)\n",
    "\n",
    "`DIP` implies that the high level classes (modules) should not be directly dependent on the low level classes, but instead on the abstractions of low level classes"
   ]
  },
  {
   "cell_type": "code",
   "execution_count": 24,
   "id": "extensive-mercury",
   "metadata": {},
   "outputs": [],
   "source": [
    "from enum import Enum\n",
    "from abc import abstractmethod, ABC, ABCMeta"
   ]
  },
  {
   "cell_type": "code",
   "execution_count": 6,
   "id": "recent-stock",
   "metadata": {},
   "outputs": [
    {
     "name": "stdout",
     "output_type": "stream",
     "text": [
      "John has a child called Chris\n",
      "John has a child called Matt\n"
     ]
    },
    {
     "data": {
      "text/plain": [
       "<__main__.Research at 0x7fd9d2f17d00>"
      ]
     },
     "execution_count": 6,
     "metadata": {},
     "output_type": "execute_result"
    }
   ],
   "source": [
    "class Relationship(Enum):\n",
    "    PARENT = 0\n",
    "    CHILD = 1\n",
    "    SIBLING = 2\n",
    "    \n",
    "class Person:\n",
    "    def __init__(self, name):\n",
    "        self.name = name\n",
    "        \n",
    "class Relationships:\n",
    "    def __init__(self):\n",
    "        self.relations = []\n",
    "        \n",
    "    def add_parent_and_child(self, parent: Person, child: Person):\n",
    "        self.relations.append(\n",
    "            (parent, Relationship.PARENT, child)\n",
    "        )\n",
    "        \n",
    "        self.relations.append(\n",
    "            (child, Relationship.CHILD, parent)\n",
    "        )\n",
    "        \n",
    "# Suppose someone now decides to create a Resaerch class that searches if there is parent called \"John\" \n",
    "# and wether he has a child in relationship tree\n",
    "\n",
    "class Research:\n",
    "    def __init__(self, relationships: Relationships):\n",
    "        relations = relationships.relations\n",
    "        for r in relations: \n",
    "            if (r[0].name == \"John\" and r[1] == Relationship.PARENT):\n",
    "                print(f\"John has a child called {r[2].name}\")\n",
    "\n",
    "parent = Person(\"John\")\n",
    "child1 = Person(\"Chris\")\n",
    "child2 = Person(\"Matt\")\n",
    "\n",
    "r = Relationships()\n",
    "r.add_parent_and_child(parent, child1)\n",
    "r.add_parent_and_child(parent, child2)\n",
    "\n",
    "Research(r) \n",
    "\n",
    "# While this works, there s a problem. This problem is Research class has dependency on relations being a \n",
    "# list (iterable), thats why if someday the relations prop of low level class Relationships changes the high level class\n",
    "# Research will fail"
   ]
  },
  {
   "cell_type": "code",
   "execution_count": 36,
   "id": "third-information",
   "metadata": {},
   "outputs": [],
   "source": [
    "# One idea is to provide a utility methods for performing search ops right in low level class\n",
    "\n",
    "# Initially we define a class called RelationshipBrowswer\n",
    "\n",
    "class RelationshipBrowser(ABC):\n",
    "    @abstractmethod\n",
    "    def find_all_children_of(self, name): pass\n",
    "        \n",
    "class Relationships(RelationshipBrowser):\n",
    "    def __init__(self):\n",
    "        self.relations = []\n",
    "        \n",
    "    def add_parent_and_child(self, parent: Person, child: Person):\n",
    "        self.relations.append(\n",
    "            (parent, Relationship.PARENT, child)\n",
    "        )\n",
    "        self.relations.append(\n",
    "            (child, Relationship.CHILD, parent)\n",
    "        )\n",
    "    \n",
    "    def find_all_children_of(self, name):\n",
    "        # implement method accordingly \n",
    "        \n",
    "        for r in self.relations:\n",
    "            if (r[0].name == name and r[1] == Relationship.PARENT):\n",
    "                yield r[2].name\n",
    "            \n",
    "class Research:\n",
    "    def __init__(self, browser: RelationshipBrowser):\n",
    "        for child_name in browser.find_all_children_of(\"John\"):\n",
    "            print(f\"John has a child named {child_name}\")"
   ]
  },
  {
   "cell_type": "code",
   "execution_count": 37,
   "id": "cutting-producer",
   "metadata": {},
   "outputs": [
    {
     "name": "stdout",
     "output_type": "stream",
     "text": [
      "John has a child named Chris\n",
      "John has a child named Matt\n"
     ]
    },
    {
     "data": {
      "text/plain": [
       "<__main__.Research at 0x7fd9d306d6d0>"
      ]
     },
     "execution_count": 37,
     "metadata": {},
     "output_type": "execute_result"
    }
   ],
   "source": [
    "parent = Person(\"John\")\n",
    "child1 = Person(\"Chris\")\n",
    "child2 = Person(\"Matt\")\n",
    "\n",
    "r = Relationships()\n",
    "r.add_parent_and_child(parent, child1)\n",
    "r.add_parent_and_child(parent, child2)\n",
    "\n",
    "Research(r)"
   ]
  }
 ],
 "metadata": {
  "celltoolbar": "Raw Cell Format",
  "kernelspec": {
   "display_name": "dpvenv",
   "language": "python",
   "name": "dpvenv"
  },
  "language_info": {
   "codemirror_mode": {
    "name": "ipython",
    "version": 3
   },
   "file_extension": ".py",
   "mimetype": "text/x-python",
   "name": "python",
   "nbconvert_exporter": "python",
   "pygments_lexer": "ipython3",
   "version": "3.8.5"
  }
 },
 "nbformat": 4,
 "nbformat_minor": 5
}
